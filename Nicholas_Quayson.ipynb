{
 "cells": [
  {
   "cell_type": "markdown",
   "id": "5768b7c3-f534-4bf1-aa9a-ba9a1187eb7b",
   "metadata": {},
   "source": [
    "## STUDENT GRADE EVALUATOR"
   ]
  },
  {
   "cell_type": "code",
   "execution_count": 1,
   "id": "82c062bf-59fe-4c9f-a9ee-45912fa85384",
   "metadata": {},
   "outputs": [],
   "source": [
    "#FUNCTION TO ASSIGN GRADES BASED ON SCORE\n",
    "def grade_student (score):\n",
    "    if score >=80:\n",
    "        return \"A\"\n",
    "    elif score >=70:\n",
    "        return \"B\"\n",
    "    elif score >=60:\n",
    "        return \"C\"\n",
    "    elif score >=50:\n",
    "        return \"D\"\n",
    "    else:\n",
    "        return \"F\""
   ]
  },
  {
   "cell_type": "code",
   "execution_count": 2,
   "id": "1bc9cbdc-9979-440f-a35d-2fa832d55e37",
   "metadata": {},
   "outputs": [],
   "source": [
    "#LIST OF STUDENT SCORES\n",
    "student_scores =[85,72,90,55,40]"
   ]
  },
  {
   "cell_type": "code",
   "execution_count": 3,
   "id": "83a9d12f-109e-488b-81fd-a8405e9170fc",
   "metadata": {},
   "outputs": [
    {
     "name": "stdout",
     "output_type": "stream",
     "text": [
      "Student 5:Score=40, Grade =F\n"
     ]
    }
   ],
   "source": [
    "#LOOP THROUGH THE SCORES AND PRINT RESULTS\n",
    "for i, score in enumerate (student_scores, start=1):\n",
    "    grade = grade_student (score)\n",
    "print (f\"Student {i}:Score={score}, Grade ={grade}\")    "
   ]
  },
  {
   "cell_type": "markdown",
   "id": "3ced6cf5-a04e-4f43-8fba-90514b05e4c9",
   "metadata": {},
   "source": [
    "##  ATM SIMULATOR"
   ]
  },
  {
   "cell_type": "code",
   "execution_count": 1,
   "id": "cb9e171c-8c5c-42b7-8b19-05823304c8ea",
   "metadata": {},
   "outputs": [],
   "source": [
    "def atm_machine():\n",
    "    balance = 1000 #Initial balance\n",
    "    correct_pin =\"1234\" #Default PIN\n",
    "    attempts=3\n",
    "    print(\"===========================\")\n",
    "    print(\"Welcome to FirstBank ATM\")\n",
    "    print(\"===========================\")\n",
    "    print(\"Please insert your card.....\")\n",
    "#PIN VERIFICATION\n",
    "    while attempts >0:\n",
    "        pin = input(\"Please enter your 4-digit PIN:\")\n",
    "        if pin  == correct_pin:\n",
    "            print(\"PIN accepted. Access granted.\")\n",
    "            break\n",
    "        else:\n",
    "            attempts-=1\n",
    "            print(f\"Incorrect PIN. You have {attempts} attampt(s) left.\")\n",
    "        if attempts == 0:\n",
    "            print(\"Too many incorrect attempts. Your card has been blocked.\")\n",
    "            return #Exit program if PIN fails\n",
    "#Main ATM Menu\n",
    "    while True:\n",
    "        print(\"\\n--- ATM MENU---\")\n",
    "        print(\"1. Check Balance\")\n",
    "        print(\"2. Deposit Money\")\n",
    "        print(\"3. Withdraw Money\")\n",
    "        print(\"4. Exit\")\n",
    "        choice = input (\"Enter your choice(1-4):\")\n",
    "        if choice ==\"1\":\n",
    "            print(f\"Your current balace is: {balance}\")\n",
    "        elif choice ==\"2\":\n",
    "            amount= float(input(\"Enter amount to deposit:\"))\n",
    "            balance += amount\n",
    "            print(f\"Deposit successful.New balace: {balance}\")\n",
    "        elif choice == \"3\":\n",
    "            amount = float(input(\"Enter amount to withdraw:\"))\n",
    "            if  amount <=balance:\n",
    "                balace -= amount\n",
    "                print(f\" Withdrawal successful.New balace: {balance}\")\n",
    "            else:\n",
    "                print(\"Insufficient balance!\")\n",
    "        elif choice ==\"4\":\n",
    "            print (\"Thank you for using the ATM. Please take your card!\")\n",
    "            break #this is INSIDE the while True loop\n",
    "        else:\n",
    "            print(\"Invalid choice. please select 1-4.\")  "
   ]
  },
  {
   "cell_type": "code",
   "execution_count": 2,
   "id": "760fd559-f7a2-4f10-a853-a0d4b222da4d",
   "metadata": {},
   "outputs": [
    {
     "name": "stdout",
     "output_type": "stream",
     "text": [
      "===========================\n",
      "Welcome to FirstBank ATM\n",
      "===========================\n",
      "Please insert your card.....\n"
     ]
    },
    {
     "name": "stdin",
     "output_type": "stream",
     "text": [
      "Please enter your 4-digit PIN: 1234\n"
     ]
    },
    {
     "name": "stdout",
     "output_type": "stream",
     "text": [
      "PIN accepted. Access granted.\n",
      "\n",
      "--- ATM MENU---\n",
      "1. Check Balance\n",
      "2. Deposit Money\n",
      "3. Withdraw Money\n",
      "4. Exit\n"
     ]
    },
    {
     "name": "stdin",
     "output_type": "stream",
     "text": [
      "Enter your choice(1-4): 1\n"
     ]
    },
    {
     "name": "stdout",
     "output_type": "stream",
     "text": [
      "Your current balace is: 1000\n",
      "\n",
      "--- ATM MENU---\n",
      "1. Check Balance\n",
      "2. Deposit Money\n",
      "3. Withdraw Money\n",
      "4. Exit\n"
     ]
    },
    {
     "name": "stdin",
     "output_type": "stream",
     "text": [
      "Enter your choice(1-4): 2\n",
      "Enter amount to deposit: 1300\n"
     ]
    },
    {
     "name": "stdout",
     "output_type": "stream",
     "text": [
      "Deposit successful.New balace: 2300.0\n",
      "\n",
      "--- ATM MENU---\n",
      "1. Check Balance\n",
      "2. Deposit Money\n",
      "3. Withdraw Money\n",
      "4. Exit\n"
     ]
    },
    {
     "name": "stdin",
     "output_type": "stream",
     "text": [
      "Enter your choice(1-4): 3\n",
      "Enter amount to withdraw: 3000\n"
     ]
    },
    {
     "name": "stdout",
     "output_type": "stream",
     "text": [
      "Insufficient balance!\n",
      "\n",
      "--- ATM MENU---\n",
      "1. Check Balance\n",
      "2. Deposit Money\n",
      "3. Withdraw Money\n",
      "4. Exit\n"
     ]
    },
    {
     "name": "stdin",
     "output_type": "stream",
     "text": [
      "Enter your choice(1-4): 4\n"
     ]
    },
    {
     "name": "stdout",
     "output_type": "stream",
     "text": [
      "Thank you for using the ATM. Please take your card!\n"
     ]
    }
   ],
   "source": [
    "#Run the ATM\n",
    "atm_machine()"
   ]
  },
  {
   "cell_type": "code",
   "execution_count": null,
   "id": "9e61a54f-5fb3-4785-abe1-ceacb5d5aaa3",
   "metadata": {},
   "outputs": [],
   "source": []
  }
 ],
 "metadata": {
  "kernelspec": {
   "display_name": "Python 3 (ipykernel)",
   "language": "python",
   "name": "python3"
  },
  "language_info": {
   "codemirror_mode": {
    "name": "ipython",
    "version": 3
   },
   "file_extension": ".py",
   "mimetype": "text/x-python",
   "name": "python",
   "nbconvert_exporter": "python",
   "pygments_lexer": "ipython3",
   "version": "3.13.5"
  }
 },
 "nbformat": 4,
 "nbformat_minor": 5
}
